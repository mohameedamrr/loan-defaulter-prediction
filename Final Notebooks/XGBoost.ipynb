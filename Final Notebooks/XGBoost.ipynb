{
 "cells": [
  {
   "cell_type": "code",
   "execution_count": 1,
   "metadata": {},
   "outputs": [],
   "source": [
    "import xgboost as xgb\n",
    "import pandas as pd\n",
    "import numpy as np\n",
    "import matplotlib.pyplot as plt\n",
    "from sklearn.metrics import confusion_matrix, ConfusionMatrixDisplay\n",
    "import matplotlib.pyplot as plt\n",
    "from sklearn.metrics import accuracy_score, roc_auc_score, f1_score\n",
    "%matplotlib inline\n",
    "plt.style.use('ggplot')\n",
    "pd.set_option('display.max_columns', 200) # So we can see all columns\n",
    "pd.set_option('display.max_rows',200)\n",
    "import utility_functions"
   ]
  },
  {
   "cell_type": "code",
   "execution_count": 2,
   "metadata": {},
   "outputs": [],
   "source": [
    "df = pd.read_csv(\"D:/Banque Misr Internship/Loan Datasets/imputed_dataset.csv\")"
   ]
  },
  {
   "cell_type": "code",
   "execution_count": 3,
   "metadata": {},
   "outputs": [
    {
     "data": {
      "text/plain": [
       "<module 'utility_functions' from 'd:\\\\Banque Misr Internship\\\\loan-defaulter-prediction\\\\Final Notebooks\\\\utility_functions.py'>"
      ]
     },
     "execution_count": 3,
     "metadata": {},
     "output_type": "execute_result"
    }
   ],
   "source": [
    "import importlib\n",
    "importlib.reload(utility_functions)"
   ]
  },
  {
   "cell_type": "code",
   "execution_count": 4,
   "metadata": {},
   "outputs": [],
   "source": [
    "X_train_res,X_val,y_train_res,y_val,X_test,y_test = utility_functions.setup_model(df)"
   ]
  },
  {
   "cell_type": "markdown",
   "metadata": {},
   "source": [
    "Initialize the XGBoost model"
   ]
  },
  {
   "cell_type": "code",
   "execution_count": 5,
   "metadata": {},
   "outputs": [],
   "source": [
    "# Initialize the XGBoost model\n",
    "xgb_model = xgb.XGBClassifier(\n",
    "    n_estimators=150,  # Number of boosting rounds\n",
    "    max_depth=6,       # Maximum depth of a tree\n",
    "    learning_rate=0.1, # Step size shrinkage used in update to prevent overfitting\n",
    "    subsample=0.8,     # Subsample ratio of the training instance\n",
    "    colsample_bytree=0.8,  # Subsample ratio of columns when constructing each tree\n",
    "    random_state=42,   # Random seed for reproducibility\n",
    "    use_label_encoder=False  # Prevent deprecation warning in XGBoost 1.3+\n",
    ")\n"
   ]
  },
  {
   "cell_type": "markdown",
   "metadata": {},
   "source": [
    "Train the model"
   ]
  },
  {
   "cell_type": "code",
   "execution_count": 11,
   "metadata": {},
   "outputs": [
    {
     "name": "stdout",
     "output_type": "stream",
     "text": [
      "[0]\tvalidation_0-logloss:0.64740\n",
      "[1]\tvalidation_0-logloss:0.60480\n",
      "[2]\tvalidation_0-logloss:0.56791\n"
     ]
    },
    {
     "name": "stderr",
     "output_type": "stream",
     "text": [
      "C:\\Users\\mdamr\\AppData\\Roaming\\Python\\Python310\\site-packages\\xgboost\\core.py:158: UserWarning: [01:36:28] WARNING: C:\\buildkite-agent\\builds\\buildkite-windows-cpu-autoscaling-group-i-0015a694724fa8361-1\\xgboost\\xgboost-ci-windows\\src\\learner.cc:740: \n",
      "Parameters: { \"use_label_encoder\" } are not used.\n",
      "\n",
      "  warnings.warn(smsg, UserWarning)\n"
     ]
    },
    {
     "name": "stdout",
     "output_type": "stream",
     "text": [
      "[3]\tvalidation_0-logloss:0.54086\n",
      "[4]\tvalidation_0-logloss:0.51651\n",
      "[5]\tvalidation_0-logloss:0.49055\n",
      "[6]\tvalidation_0-logloss:0.46906\n",
      "[7]\tvalidation_0-logloss:0.44495\n",
      "[8]\tvalidation_0-logloss:0.42757\n",
      "[9]\tvalidation_0-logloss:0.40959\n",
      "[10]\tvalidation_0-logloss:0.39454\n",
      "[11]\tvalidation_0-logloss:0.38058\n",
      "[12]\tvalidation_0-logloss:0.36499\n",
      "[13]\tvalidation_0-logloss:0.35563\n",
      "[14]\tvalidation_0-logloss:0.34245\n",
      "[15]\tvalidation_0-logloss:0.33085\n",
      "[16]\tvalidation_0-logloss:0.32013\n",
      "[17]\tvalidation_0-logloss:0.31341\n",
      "[18]\tvalidation_0-logloss:0.30265\n",
      "[19]\tvalidation_0-logloss:0.29382\n",
      "[20]\tvalidation_0-logloss:0.28621\n",
      "[21]\tvalidation_0-logloss:0.27977\n",
      "[22]\tvalidation_0-logloss:0.27001\n",
      "[23]\tvalidation_0-logloss:0.26606\n",
      "[24]\tvalidation_0-logloss:0.25904\n",
      "[25]\tvalidation_0-logloss:0.25338\n",
      "[26]\tvalidation_0-logloss:0.24904\n",
      "[27]\tvalidation_0-logloss:0.24415\n",
      "[28]\tvalidation_0-logloss:0.24032\n",
      "[29]\tvalidation_0-logloss:0.23619\n",
      "[30]\tvalidation_0-logloss:0.23360\n",
      "[31]\tvalidation_0-logloss:0.22932\n",
      "[32]\tvalidation_0-logloss:0.22580\n",
      "[33]\tvalidation_0-logloss:0.22216\n",
      "[34]\tvalidation_0-logloss:0.21829\n",
      "[35]\tvalidation_0-logloss:0.21545\n",
      "[36]\tvalidation_0-logloss:0.21280\n",
      "[37]\tvalidation_0-logloss:0.21063\n",
      "[38]\tvalidation_0-logloss:0.20858\n",
      "[39]\tvalidation_0-logloss:0.20697\n",
      "[40]\tvalidation_0-logloss:0.20556\n",
      "[41]\tvalidation_0-logloss:0.20277\n",
      "[42]\tvalidation_0-logloss:0.20041\n",
      "[43]\tvalidation_0-logloss:0.19874\n",
      "[44]\tvalidation_0-logloss:0.19731\n",
      "[45]\tvalidation_0-logloss:0.19561\n",
      "[46]\tvalidation_0-logloss:0.19412\n",
      "[47]\tvalidation_0-logloss:0.19285\n",
      "[48]\tvalidation_0-logloss:0.19099\n",
      "[49]\tvalidation_0-logloss:0.18924\n",
      "[50]\tvalidation_0-logloss:0.18783\n",
      "[51]\tvalidation_0-logloss:0.18620\n",
      "[52]\tvalidation_0-logloss:0.18410\n",
      "[53]\tvalidation_0-logloss:0.18252\n",
      "[54]\tvalidation_0-logloss:0.18174\n",
      "[55]\tvalidation_0-logloss:0.18031\n",
      "[56]\tvalidation_0-logloss:0.17922\n",
      "[57]\tvalidation_0-logloss:0.17843\n",
      "[58]\tvalidation_0-logloss:0.17739\n",
      "[59]\tvalidation_0-logloss:0.17644\n",
      "[60]\tvalidation_0-logloss:0.17500\n",
      "[61]\tvalidation_0-logloss:0.17398\n",
      "[62]\tvalidation_0-logloss:0.17317\n",
      "[63]\tvalidation_0-logloss:0.17221\n",
      "[64]\tvalidation_0-logloss:0.17105\n",
      "[65]\tvalidation_0-logloss:0.17027\n",
      "[66]\tvalidation_0-logloss:0.16963\n",
      "[67]\tvalidation_0-logloss:0.16877\n",
      "[68]\tvalidation_0-logloss:0.16846\n",
      "[69]\tvalidation_0-logloss:0.16734\n",
      "[70]\tvalidation_0-logloss:0.16682\n",
      "[71]\tvalidation_0-logloss:0.16634\n",
      "[72]\tvalidation_0-logloss:0.16573\n",
      "[73]\tvalidation_0-logloss:0.16508\n",
      "[74]\tvalidation_0-logloss:0.16439\n",
      "[75]\tvalidation_0-logloss:0.16403\n",
      "[76]\tvalidation_0-logloss:0.16373\n",
      "[77]\tvalidation_0-logloss:0.16286\n",
      "[78]\tvalidation_0-logloss:0.16257\n",
      "[79]\tvalidation_0-logloss:0.16156\n",
      "[80]\tvalidation_0-logloss:0.16122\n",
      "[81]\tvalidation_0-logloss:0.16103\n",
      "[82]\tvalidation_0-logloss:0.16066\n",
      "[83]\tvalidation_0-logloss:0.16021\n",
      "[84]\tvalidation_0-logloss:0.15943\n",
      "[85]\tvalidation_0-logloss:0.15915\n",
      "[86]\tvalidation_0-logloss:0.15888\n",
      "[87]\tvalidation_0-logloss:0.15849\n",
      "[88]\tvalidation_0-logloss:0.15826\n",
      "[89]\tvalidation_0-logloss:0.15789\n",
      "[90]\tvalidation_0-logloss:0.15768\n",
      "[91]\tvalidation_0-logloss:0.15728\n",
      "[92]\tvalidation_0-logloss:0.15708\n",
      "[93]\tvalidation_0-logloss:0.15664\n",
      "[94]\tvalidation_0-logloss:0.15631\n",
      "[95]\tvalidation_0-logloss:0.15574\n",
      "[96]\tvalidation_0-logloss:0.15538\n",
      "[97]\tvalidation_0-logloss:0.15501\n",
      "[98]\tvalidation_0-logloss:0.15481\n",
      "[99]\tvalidation_0-logloss:0.15457\n",
      "[100]\tvalidation_0-logloss:0.15439\n",
      "[101]\tvalidation_0-logloss:0.15420\n",
      "[102]\tvalidation_0-logloss:0.15400\n",
      "[103]\tvalidation_0-logloss:0.15386\n",
      "[104]\tvalidation_0-logloss:0.15351\n",
      "[105]\tvalidation_0-logloss:0.15336\n",
      "[106]\tvalidation_0-logloss:0.15324\n",
      "[107]\tvalidation_0-logloss:0.15297\n",
      "[108]\tvalidation_0-logloss:0.15282\n",
      "[109]\tvalidation_0-logloss:0.15255\n",
      "[110]\tvalidation_0-logloss:0.15245\n",
      "[111]\tvalidation_0-logloss:0.15181\n",
      "[112]\tvalidation_0-logloss:0.15165\n",
      "[113]\tvalidation_0-logloss:0.15153\n",
      "[114]\tvalidation_0-logloss:0.15126\n",
      "[115]\tvalidation_0-logloss:0.15091\n",
      "[116]\tvalidation_0-logloss:0.15071\n",
      "[117]\tvalidation_0-logloss:0.15062\n",
      "[118]\tvalidation_0-logloss:0.15046\n",
      "[119]\tvalidation_0-logloss:0.15028\n",
      "[120]\tvalidation_0-logloss:0.15002\n",
      "[121]\tvalidation_0-logloss:0.14990\n",
      "[122]\tvalidation_0-logloss:0.14973\n",
      "[123]\tvalidation_0-logloss:0.14952\n",
      "[124]\tvalidation_0-logloss:0.14933\n",
      "[125]\tvalidation_0-logloss:0.14915\n",
      "[126]\tvalidation_0-logloss:0.14887\n",
      "[127]\tvalidation_0-logloss:0.14861\n",
      "[128]\tvalidation_0-logloss:0.14856\n",
      "[129]\tvalidation_0-logloss:0.14848\n",
      "[130]\tvalidation_0-logloss:0.14838\n",
      "[131]\tvalidation_0-logloss:0.14827\n",
      "[132]\tvalidation_0-logloss:0.14815\n",
      "[133]\tvalidation_0-logloss:0.14796\n",
      "[134]\tvalidation_0-logloss:0.14782\n",
      "[135]\tvalidation_0-logloss:0.14773\n",
      "[136]\tvalidation_0-logloss:0.14761\n",
      "[137]\tvalidation_0-logloss:0.14749\n",
      "[138]\tvalidation_0-logloss:0.14724\n",
      "[139]\tvalidation_0-logloss:0.14713\n",
      "[140]\tvalidation_0-logloss:0.14704\n",
      "[141]\tvalidation_0-logloss:0.14686\n",
      "[142]\tvalidation_0-logloss:0.14677\n",
      "[143]\tvalidation_0-logloss:0.14673\n",
      "[144]\tvalidation_0-logloss:0.14657\n",
      "[145]\tvalidation_0-logloss:0.14650\n",
      "[146]\tvalidation_0-logloss:0.14641\n",
      "[147]\tvalidation_0-logloss:0.14625\n",
      "[148]\tvalidation_0-logloss:0.14622\n",
      "[149]\tvalidation_0-logloss:0.14614\n",
      "0.9545112988655315\n"
     ]
    }
   ],
   "source": [
    "xgb_model.fit(X_train_res, y_train_res, \n",
    "              eval_set=[(X_val, y_val)],   \n",
    "              verbose=True,\n",
    "                )\n",
    "y_train_xg = xgb_model.predict(X_train_res)\n",
    "train_accuracy = accuracy_score(y_train_res, y_train_xg)\n",
    "f1_accuracy = f1_score(y_train_res, y_train_xg)\n",
    "print(train_accuracy)"
   ]
  },
  {
   "cell_type": "code",
   "execution_count": 12,
   "metadata": {},
   "outputs": [
    {
     "name": "stdout",
     "output_type": "stream",
     "text": [
      "0.9516496018202503\n"
     ]
    }
   ],
   "source": [
    "print(f1_accuracy)"
   ]
  },
  {
   "cell_type": "code",
   "execution_count": 7,
   "metadata": {},
   "outputs": [],
   "source": [
    "y_pred_val = xgb_model.predict(X_val)\n",
    "y_pred_proba_val = xgb_model.predict_proba(X_val)[:, 1]"
   ]
  },
  {
   "cell_type": "markdown",
   "metadata": {},
   "source": [
    "Calculate metrics"
   ]
  },
  {
   "cell_type": "code",
   "execution_count": 8,
   "metadata": {},
   "outputs": [
    {
     "name": "stdout",
     "output_type": "stream",
     "text": [
      "Accuracy: 0.9534\n",
      "F1 Score: 0.9503\n",
      "ROC-AUC Score: 0.9526\n",
      "Precision: 0.998408\n",
      "Recall:  0.906585\n"
     ]
    }
   ],
   "source": [
    "utility_functions.calculate_metrics(y_val,y_pred_val)"
   ]
  },
  {
   "cell_type": "code",
   "execution_count": 9,
   "metadata": {},
   "outputs": [
    {
     "data": {
      "image/png": "[encoded data removed]",
      "text/plain": [
       "<Figure size 640x480 with 2 Axes>"
      ]
     },
     "metadata": {},
     "output_type": "display_data"
    }
   ],
   "source": [
    "# Calculate the confusion matrix\n",
    "cm = confusion_matrix(y_val, y_pred_val)\n",
    "\n",
    "# Plot the confusion matrix\n",
    "disp = ConfusionMatrixDisplay(confusion_matrix=cm, display_labels=xgb_model.classes_)\n",
    "disp.plot(cmap=plt.cm.Blues)\n",
    "plt.title(\"Confusion Matrix\")\n",
    "plt.show()"
   ]
  },
  {
   "cell_type": "code",
   "execution_count": null,
   "metadata": {},
   "outputs": [],
   "source": []
  }
 ],
 "metadata": {
  "kernelspec": {
   "display_name": "Python 3",
   "language": "python",
   "name": "python3"
  },
  "language_info": {
   "codemirror_mode": {
    "name": "ipython",
    "version": 3
   },
   "file_extension": ".py",
   "mimetype": "text/x-python",
   "name": "python",
   "nbconvert_exporter": "python",
   "pygments_lexer": "ipython3",
   "version": "3.10.11"
  }
 },
 "nbformat": 4,
 "nbformat_minor": 2
}
